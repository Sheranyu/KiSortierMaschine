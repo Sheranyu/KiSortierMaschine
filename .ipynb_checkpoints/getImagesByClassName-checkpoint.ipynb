{
 "cells": [
  {
   "cell_type": "code",
   "execution_count": 6,
   "id": "f3b8afd5-50d9-417a-80b2-aae850ab9c62",
   "metadata": {
    "tags": []
   },
   "outputs": [
    {
     "name": "stdout",
     "output_type": "stream",
     "text": [
      "c - gedrückt\n",
      "c - gedrückt\n",
      "Label: LegoRotLang\n",
      "Klasse: LegoRotLang Bild 0001 Aufloesung: 480x640, x-Richtung: 208...432, y-Richtung: 128...352\n",
      "Klasse: LegoRotLang Bild 0002 Aufloesung: 480x640, x-Richtung: 208...432, y-Richtung: 128...352\n",
      "Klasse: LegoRotLang Bild 0003 Aufloesung: 480x640, x-Richtung: 208...432, y-Richtung: 128...352\n"
     ]
    }
   ],
   "source": [
    "import cv2\n",
    "import numpy as np\n",
    "import os\n",
    "#import time\n",
    "\n",
    "#WebCam Auflösung\n",
    "width = 640     # Mögliche Kameraauflösungen (bei mir): 640x380, 640x380, 640x640, 1280x720\n",
    "height= 480\n",
    "# WebCam Rahmen, Region of Interest\n",
    "rw = 224\n",
    "rh = 224\n",
    "cx = width//2 - rw//2  # Im Moment zentrierte Bildaufnahme\n",
    "cy = height//2 - rh//2\n",
    "p1 = (cx - 2, cy - 2)\n",
    "p2 = (cx + rw + 2, cy + rh + 2)\n",
    "size = (rw, rh)\n",
    "\n",
    "# Weitere Einstellungen\n",
    "framegap = 0.5              # für automatisierte Bildaufnahme, delay muss in der Schleife einkommentiert werden\n",
    "MEINEFARBE = (255,255,255)\n",
    "THICKNESS1 = 2\n",
    "\n",
    "# Unterschiedlichen Klassen\n",
    "classes = [\"LegoRotLang\", \"LegoKurzLang\", \"LegoBlauLang\"]  # Hier belieibig viele Klassen angeben\n",
    "class_iter = iter(classes)\n",
    "\n",
    "#data = np.ndarray(shape=(1, 224, 224, 3), dtype=np.float32)\n",
    "\n",
    "# WebCam aktivieren\n",
    "cap = cv2.VideoCapture(0, cv2.CAP_DSHOW)\n",
    "cap.set(cv2.CAP_PROP_FRAME_WIDTH, width)\n",
    "cap.set(cv2.CAP_PROP_FRAME_HEIGHT, height)\n",
    "\n",
    "cv2.namedWindow('image')\n",
    "path = './'\n",
    "img_path = path\n",
    "i = 0\n",
    "while True:\n",
    "    #time.sleep(framegap)\n",
    "    \n",
    "    # Tasten abhören\n",
    "    k = cv2.waitKey(30)\n",
    "    \n",
    "    # Bei \"c\" -> Tasten funktionieren\n",
    "    # Bei \"n\" -> erstelle einen neuen Ornder für eine neue Klasse; Bilder mit \"s\" aufzeichnen in diesen Ordner\n",
    "    if k == ord('c'):\n",
    "        print(\"c - gedrückt\")\n",
    "    elif k == ord('n'): # erstelle einen neuen Ordner für die Bilder einer neuen Klassen\n",
    "        try:\n",
    "            cur_class = next(class_iter)\n",
    "            print(f\"Label: {cur_class}\")\n",
    "            if not os.path.exists(f'./{cur_class}'):\n",
    "                os.system(f'mkdir {cur_class}')\n",
    "            img_path =path +  cur_class\n",
    "        except:\n",
    "            print(\"Durch\")\n",
    "            break\n",
    "    \n",
    "    # Lies ein Bild\n",
    "    ret, frame = cap.read()\n",
    "    l, w, _ = frame.shape\n",
    "\n",
    "    cv2.rectangle(frame, p1, p2, MEINEFARBE, THICKNESS1)\n",
    "    img_part = frame[cy:cy+rh, cx:cx+rw,:]\n",
    "    \n",
    "    # Taste \"s\" -> Bildaufnahme\n",
    "    if k == ord('s'):\n",
    "        cv2.imwrite(img_path + f'/{str(i).zfill(4)}.png', img_part)\n",
    "        i += 1\n",
    "        print(f\"{str(i).zfill(4)} Bild, Klasse: {cur_class} Aufloesung: {l}x{w}, x-Richtung: {cx}...{cx+rw}, y-Richtung: {cy}...{cy+rh}\")\n",
    "    \n",
    "    # Bild anzeigen, Leertaste beendet\n",
    "    cv2.imshow(\"image\", frame)\n",
    "    if cv2.waitKey(1) % 0xFF == ord(' '):\n",
    "        break\n",
    "                \n",
    "cap.release()\n",
    "cv2.destroyAllWindows()"
   ]
  },
  {
   "cell_type": "code",
   "execution_count": null,
   "id": "dd670058-ed64-4c29-832f-65291ee68d60",
   "metadata": {
    "tags": []
   },
   "outputs": [],
   "source": []
  },
  {
   "cell_type": "code",
   "execution_count": null,
   "id": "57223119-0020-4a57-b394-db640acb5d38",
   "metadata": {},
   "outputs": [],
   "source": []
  }
 ],
 "metadata": {
  "kernelspec": {
   "display_name": "Python 3 (ipykernel)",
   "language": "python",
   "name": "python3"
  },
  "language_info": {
   "codemirror_mode": {
    "name": "ipython",
    "version": 3
   },
   "file_extension": ".py",
   "mimetype": "text/x-python",
   "name": "python",
   "nbconvert_exporter": "python",
   "pygments_lexer": "ipython3",
   "version": "3.9.16"
  }
 },
 "nbformat": 4,
 "nbformat_minor": 5
}
